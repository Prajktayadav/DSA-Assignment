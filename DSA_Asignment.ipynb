{
  "nbformat": 4,
  "nbformat_minor": 0,
  "metadata": {
    "colab": {
      "provenance": []
    },
    "kernelspec": {
      "name": "python3",
      "display_name": "Python 3"
    },
    "language_info": {
      "name": "python"
    }
  },
  "cells": [
    {
      "cell_type": "code",
      "execution_count": 1,
      "metadata": {
        "colab": {
          "base_uri": "https://localhost:8080/"
        },
        "id": "iJZkV25HpVFX",
        "outputId": "66bccdc4-c15b-4b92-ac9c-78b485fbb78c"
      },
      "outputs": [
        {
          "output_type": "stream",
          "name": "stdout",
          "text": [
            "Reversed linked list:\n",
            "5 -> 4 -> 3 -> 2 -> 1 -> None\n"
          ]
        }
      ],
      "source": [
        "# Problem1:Reverse a sinly linked list\n",
        "\n",
        "\n",
        "class ListNode:\n",
        "    def __init__(self, val=0, next=None):\n",
        "        self.val = val\n",
        "        self.next = next\n",
        "\n",
        "def reverse_linked_list(head):\n",
        "    prev = None\n",
        "    current = head\n",
        "\n",
        "    while current:\n",
        "        next_node = current.next\n",
        "        current.next = prev\n",
        "        prev = current\n",
        "        current = next_node\n",
        "\n",
        "    return prev\n",
        "\n",
        "def print_linked_list(head):\n",
        "    current = head\n",
        "    while current:\n",
        "        print(current.val, end=\" -> \")\n",
        "        current = current.next\n",
        "    print(\"None\")\n",
        "\n",
        "\n",
        "head = ListNode(1)\n",
        "head.next = ListNode(2)\n",
        "head.next.next = ListNode(3)\n",
        "head.next.next.next = ListNode(4)\n",
        "head.next.next.next.next = ListNode(5)\n",
        "\n",
        "new_head = reverse_linked_list(head)\n",
        "\n",
        "print(\"Reversed linked list:\")\n",
        "print_linked_list(new_head)\n"
      ]
    },
    {
      "cell_type": "code",
      "source": [
        "#Problem 2: Merge two sorted linked lists into one sorted linked list.\n",
        "\n",
        "\n",
        "\n",
        "class ListNode:\n",
        "    def __init__(self, val=0, next=None):\n",
        "        self.val = val\n",
        "        self.next = next\n",
        "\n",
        "def merge_two_lists(l1, l2):\n",
        "    dummy = ListNode(0)\n",
        "    current = dummy\n",
        "\n",
        "    while l1 and l2:\n",
        "        if l1.val < l2.val:\n",
        "            current.next = l1\n",
        "            l1 = l1.next\n",
        "        else:\n",
        "            current.next = l2\n",
        "            l2 = l2.next\n",
        "        current = current.next\n",
        "\n",
        "    if l1:\n",
        "        current.next = l1\n",
        "    elif l2:\n",
        "        current.next = l2\n",
        "\n",
        "    return dummy.next\n",
        "\n",
        "def print_linked_list(head):\n",
        "    current = head\n",
        "    while current:\n",
        "        print(current.val, end=\" -> \")\n",
        "        current = current.next\n",
        "    print(\"None\")\n",
        "\n",
        "\n",
        "list1 = ListNode(1)\n",
        "list1.next = ListNode(3)\n",
        "list1.next.next = ListNode(5)\n",
        "\n",
        "list2 = ListNode(2)\n",
        "list2.next = ListNode(4)\n",
        "list2.next.next = ListNode(6)\n",
        "\n",
        "merged_list = merge_two_lists(list1, list2)\n",
        "\n",
        "print(\"Merged linked list:\")\n",
        "print_linked_list(merged_list)\n"
      ],
      "metadata": {
        "colab": {
          "base_uri": "https://localhost:8080/"
        },
        "id": "ik8gYjT9qUKW",
        "outputId": "5928f2e4-cb5c-4f7c-e66d-02d170bd996b"
      },
      "execution_count": 2,
      "outputs": [
        {
          "output_type": "stream",
          "name": "stdout",
          "text": [
            "Merged linked list:\n",
            "1 -> 2 -> 3 -> 4 -> 5 -> 6 -> None\n"
          ]
        }
      ]
    },
    {
      "cell_type": "code",
      "source": [
        "#Problem 3: Remove the nth node from the end of a linked list.\n",
        "\n",
        "class ListNode:\n",
        "    def __init__(self, val=0, next=None):\n",
        "        self.val = val\n",
        "        self.next = next\n",
        "\n",
        "def remove_nth_from_end(head, n):\n",
        "    dummy = ListNode(0)\n",
        "    dummy.next = head\n",
        "    fast = slow = dummy\n",
        "\n",
        "    for _ in range(n):\n",
        "        fast = fast.next\n",
        "\n",
        "    while fast.next:\n",
        "        fast = fast.next\n",
        "        slow = slow.next\n",
        "\n",
        "    slow.next = slow.next.next\n",
        "\n",
        "    return dummy.next\n",
        "\n",
        "def print_linked_list(head):\n",
        "    current = head\n",
        "    while current:\n",
        "        print(current.val, end=\" -> \")\n",
        "        current = current.next\n",
        "    print(\"None\")\n",
        "\n",
        "\n",
        "head = ListNode(1)\n",
        "head.next = ListNode(2)\n",
        "head.next.next = ListNode(3)\n",
        "head.next.next.next = ListNode(4)\n",
        "head.next.next.next.next = ListNode(5)\n",
        "\n",
        "n = 2\n",
        "new_head = remove_nth_from_end(head, n)\n",
        "\n",
        "print(\"Modified linked list:\")\n",
        "print_linked_list(new_head)\n"
      ],
      "metadata": {
        "colab": {
          "base_uri": "https://localhost:8080/"
        },
        "id": "0CJrpfazqqAe",
        "outputId": "357ddf0d-f9d8-4dcb-bdf7-caa737e414ec"
      },
      "execution_count": 3,
      "outputs": [
        {
          "output_type": "stream",
          "name": "stdout",
          "text": [
            "Modified linked list:\n",
            "1 -> 2 -> 3 -> 5 -> None\n"
          ]
        }
      ]
    },
    {
      "cell_type": "code",
      "source": [
        "#Problem 4: Find the intersection point of two linked lists.\n",
        "\n",
        "\n",
        "class ListNode:\n",
        "    def __init__(self, val=0, next=None):\n",
        "        self.val = val\n",
        "        self.next = next\n",
        "\n",
        "def get_intersection_node(headA, headB):\n",
        "    def get_length(head):\n",
        "        length = 0\n",
        "        while head:\n",
        "            length += 1\n",
        "            head = head.next\n",
        "        return length\n",
        "\n",
        "    lenA, lenB = get_length(headA), get_length(headB)\n",
        "\n",
        "    while lenA > lenB:\n",
        "        headA = headA.next\n",
        "        lenA -= 1\n",
        "    while lenB > lenA:\n",
        "        headB = headB.next\n",
        "        lenB -= 1\n",
        "\n",
        "    while headA != headB:\n",
        "        headA = headA.next\n",
        "        headB = headB.next\n",
        "\n",
        "    return headA\n",
        "\n",
        "\n",
        "list1 = ListNode(1)\n",
        "list1.next = ListNode(2)\n",
        "list1.next.next = ListNode(3)\n",
        "list1.next.next.next = ListNode(4)\n",
        "\n",
        "list2 = ListNode(9)\n",
        "list2.next = ListNode(8)\n",
        "list2.next.next = list1.next.next\n",
        "\n",
        "intersection_node = get_intersection_node(list1, list2)\n",
        "\n",
        "if intersection_node:\n",
        "    print(\"Intersection node value:\", intersection_node.val)\n",
        "else:\n",
        "    print(\"No intersection found.\")\n",
        "\n"
      ],
      "metadata": {
        "colab": {
          "base_uri": "https://localhost:8080/"
        },
        "id": "M0GzTcRkq_Zo",
        "outputId": "b3765503-b389-4ada-9f48-78ea07727dc0"
      },
      "execution_count": 4,
      "outputs": [
        {
          "output_type": "stream",
          "name": "stdout",
          "text": [
            "Intersection node value: 3\n"
          ]
        }
      ]
    },
    {
      "cell_type": "code",
      "source": [
        "#Problem 5: Remove duplicates from a sorted linked list.\n",
        "\n",
        "class ListNode:\n",
        "    def __init__(self, val=0, next=None):\n",
        "        self.val = val\n",
        "        self.next = next\n",
        "\n",
        "def delete_duplicates(head):\n",
        "    current = head\n",
        "\n",
        "    while current and current.next:\n",
        "        if current.val == current.next.val:\n",
        "            current.next = current.next.next\n",
        "        else:\n",
        "            current = current.next\n",
        "\n",
        "    return head\n",
        "\n",
        "def print_linked_list(head):\n",
        "    current = head\n",
        "    while current:\n",
        "        print(current.val, end=\" -> \")\n",
        "        current = current.next\n",
        "    print(\"None\")\n",
        "\n",
        "\n",
        "head = ListNode(1)\n",
        "head.next = ListNode(1)\n",
        "head.next.next = ListNode(2)\n",
        "head.next.next.next = ListNode(3)\n",
        "head.next.next.next.next = ListNode(3)\n",
        "\n",
        "new_head = delete_duplicates(head)\n",
        "\n",
        "print(\"Modified linked list:\")\n",
        "print_linked_list(new_head)\n",
        "\n"
      ],
      "metadata": {
        "colab": {
          "base_uri": "https://localhost:8080/"
        },
        "id": "xkurWY20rivd",
        "outputId": "220684f4-9da7-4f47-bab3-e8372f6a3b6d"
      },
      "execution_count": 5,
      "outputs": [
        {
          "output_type": "stream",
          "name": "stdout",
          "text": [
            "Modified linked list:\n",
            "1 -> 2 -> 3 -> None\n"
          ]
        }
      ]
    },
    {
      "cell_type": "code",
      "source": [
        "#Problem 6: Add two numbers represented by linked lists (where each node contains a single digit).\n",
        "\n",
        "class ListNode:\n",
        "    def __init__(self, val=0, next=None):\n",
        "        self.val = val\n",
        "        self.next = next\n",
        "\n",
        "def add_two_numbers(l1, l2):\n",
        "    dummy = ListNode(0)\n",
        "    current = dummy\n",
        "    carry = 0\n",
        "\n",
        "    while l1 or l2 or carry:\n",
        "        sum_digits = carry\n",
        "        if l1:\n",
        "            sum_digits += l1.val\n",
        "            l1 = l1.next\n",
        "        if l2:\n",
        "            sum_digits += l2.val\n",
        "            l2 = l2.next\n",
        "\n",
        "        carry, remainder = divmod(sum_digits, 10)\n",
        "        current.next = ListNode(remainder)\n",
        "        current = current.next\n",
        "\n",
        "    return dummy.next\n",
        "\n",
        "def print_linked_list(head):\n",
        "    current = head\n",
        "    while current:\n",
        "        print(current.val, end=\" -> \")\n",
        "        current = current.next\n",
        "    print(\"None\")\n",
        "\n",
        "\n",
        "list1 = ListNode(2)\n",
        "list1.next = ListNode(4)\n",
        "list1.next.next = ListNode(3)\n",
        "\n",
        "list2 = ListNode(5)\n",
        "list2.next = ListNode(6)\n",
        "list2.next.next = ListNode(4)\n",
        "\n",
        "result = add_two_numbers(list1, list2)\n",
        "\n",
        "print(\"Result:\")\n",
        "print_linked_list(result)\n",
        "\n",
        "\n"
      ],
      "metadata": {
        "colab": {
          "base_uri": "https://localhost:8080/"
        },
        "id": "cnq-Doyurzii",
        "outputId": "9539713f-817a-4fe4-a82b-7547280eb785"
      },
      "execution_count": 7,
      "outputs": [
        {
          "output_type": "stream",
          "name": "stdout",
          "text": [
            "Result:\n",
            "7 -> 0 -> 8 -> None\n"
          ]
        }
      ]
    },
    {
      "cell_type": "code",
      "source": [
        "#Problem 7: Swap nodes in pairs in a linked list.\n",
        "\n",
        "class ListNode:\n",
        "    def __init__(self, val=0, next=None):\n",
        "        self.val = val\n",
        "        self.next = next\n",
        "\n",
        "def swap_pairs(head):\n",
        "    dummy = ListNode(0)\n",
        "    dummy.next = head\n",
        "    prev = dummy\n",
        "\n",
        "    while prev.next and prev.next.next:\n",
        "        node1 = prev.next\n",
        "        node2 = node1.next\n",
        "\n",
        "        prev.next = node2\n",
        "        node1.next = node2.next\n",
        "        node2.next = node1\n",
        "\n",
        "        prev = node1\n",
        "\n",
        "    return dummy.next\n",
        "\n",
        "\n",
        "def print_linked_list(head):\n",
        "    current = head\n",
        "    while current:\n",
        "        print(current.val, end=\" -> \")\n",
        "        current = current.next\n",
        "    print(\"None\")\n",
        "\n",
        "\n",
        "head = ListNode(1)\n",
        "head.next = ListNode(2)\n",
        "head.next.next = ListNode(3)\n",
        "head.next.next.next = ListNode(4)\n",
        "\n",
        "result = swap_pairs(head)\n",
        "\n",
        "print(\"Result:\")\n",
        "print_linked_list(result)\n",
        "\n"
      ],
      "metadata": {
        "colab": {
          "base_uri": "https://localhost:8080/"
        },
        "id": "AUWvxWGjsEnr",
        "outputId": "19f9059e-6c72-48cf-8273-c06115e0ac6f"
      },
      "execution_count": 8,
      "outputs": [
        {
          "output_type": "stream",
          "name": "stdout",
          "text": [
            "Result:\n",
            "2 -> 1 -> 4 -> 3 -> None\n"
          ]
        }
      ]
    },
    {
      "cell_type": "code",
      "source": [
        "#Problem 8: Reverse nodes in a linked list in groups of k.\n",
        "\n",
        "\n",
        "class ListNode:\n",
        "    def __init__(self, val=0, next=None):\n",
        "        self.val = val\n",
        "        self.next = next\n",
        "\n",
        "def reverse_k_group(head, k):\n",
        "    def reverse_sublist(start, end):\n",
        "        prev, current = None, start\n",
        "        while current != end:\n",
        "            next_node = current.next\n",
        "            current.next = prev\n",
        "            prev = current\n",
        "            current = next_node\n",
        "        return prev\n",
        "\n",
        "    dummy = ListNode(0)\n",
        "    dummy.next = head\n",
        "    prev_group_end = dummy\n",
        "\n",
        "    while True:\n",
        "        group_start = prev_group_end.next\n",
        "        group_end = group_start\n",
        "        for _ in range(k - 1):\n",
        "            if group_end is None:\n",
        "                return dummy.next\n",
        "            group_end = group_end.next\n",
        "\n",
        "        if group_end is None:\n",
        "            return dummy.next\n",
        "\n",
        "        next_group_start = group_end.next\n",
        "        reversed_group_start = reverse_sublist(group_start, next_group_start)\n",
        "        prev_group_end.next = reversed_group_start\n",
        "        group_start.next = next_group_start\n",
        "        prev_group_end = group_start\n",
        "\n",
        "    return dummy.next\n",
        "\n",
        "def print_linked_list(head):\n",
        "    current = head\n",
        "    while current:\n",
        "        print(current.val, end=\" -> \")\n",
        "        current = current.next\n",
        "    print(\"None\")\n",
        "\n",
        "\n",
        "head = ListNode(1)\n",
        "head.next = ListNode(2)\n",
        "head.next.next = ListNode(3)\n",
        "head.next.next.next = ListNode(4)\n",
        "head.next.next.next.next = ListNode(5)\n",
        "\n",
        "k = 3\n",
        "result = reverse_k_group(head, k)\n",
        "\n",
        "print(\"Result:\")\n",
        "print_linked_list(result)\n",
        "\n",
        "\n"
      ],
      "metadata": {
        "colab": {
          "base_uri": "https://localhost:8080/"
        },
        "id": "hWRNs1Ptsvw8",
        "outputId": "08223153-f8a4-4a30-8c8f-7e95d9faf769"
      },
      "execution_count": 14,
      "outputs": [
        {
          "output_type": "stream",
          "name": "stdout",
          "text": [
            "Result:\n",
            "3 -> 2 -> 1 -> 4 -> 5 -> None\n"
          ]
        }
      ]
    },
    {
      "cell_type": "code",
      "source": [
        "#Problem 9: Determine if a linked list is a palindrome.\n",
        "\n",
        "class ListNode:\n",
        "    def __init__(self, val=0, next=None):\n",
        "        self.val = val\n",
        "        self.next = next\n",
        "\n",
        "def is_palindrome(head):\n",
        "    values = []\n",
        "    current = head\n",
        "    while current:\n",
        "        values.append(current.val)\n",
        "        current = current.next\n",
        "\n",
        "    left, right = 0, len(values) - 1\n",
        "    while left < right:\n",
        "        if values[left] != values[right]:\n",
        "            return False\n",
        "        left += 1\n",
        "        right -= 1\n",
        "\n",
        "    return True\n",
        "\n",
        "def print_linked_list(head):\n",
        "    current = head\n",
        "    while current:\n",
        "        print(current.val, end=\" -> \")\n",
        "        current = current.next\n",
        "    print(\"None\")\n",
        "\n",
        "\n",
        "head = ListNode(1)\n",
        "head.next = ListNode(2)\n",
        "head.next.next = ListNode(2)\n",
        "head.next.next.next = ListNode(1)\n",
        "\n",
        "result = is_palindrome(head)\n",
        "print(\"Is the linked list a palindrome?\", result)\n"
      ],
      "metadata": {
        "colab": {
          "base_uri": "https://localhost:8080/"
        },
        "id": "0aGqAxD_tP1Q",
        "outputId": "f3e04f10-f549-4a52-9f16-83dd74e0afb7"
      },
      "execution_count": 15,
      "outputs": [
        {
          "output_type": "stream",
          "name": "stdout",
          "text": [
            "Is the linked list a palindrome? True\n"
          ]
        }
      ]
    },
    {
      "cell_type": "code",
      "source": [
        "#Problem 10: Rotate a linked list to the right by k places.\n",
        "\n",
        "\n",
        "class ListNode:\n",
        "    def __init__(self, val=0, next=None):\n",
        "        self.val = val\n",
        "        self.next = next\n",
        "\n",
        "def rotate_right(head, k):\n",
        "    if not head or not head.next or k == 0:\n",
        "        return head\n",
        "\n",
        "    length = 1\n",
        "    tail = head\n",
        "    while tail.next:\n",
        "        tail = tail.next\n",
        "        length += 1\n",
        "\n",
        "    k %= length\n",
        "    if k == 0:\n",
        "        return head\n",
        "\n",
        "    tail.next = head\n",
        "\n",
        "    steps_to_new_tail = length - k\n",
        "    new_tail = head\n",
        "    for _ in range(steps_to_new_tail - 1):\n",
        "        new_tail = new_tail.next\n",
        "\n",
        "    new_head = new_tail.next\n",
        "    new_tail.next = None\n",
        "\n",
        "    return new_head\n",
        "\n",
        "def print_linked_list(head):\n",
        "    current = head\n",
        "    while current:\n",
        "        print(current.val, end=\" -> \")\n",
        "        current = current.next\n",
        "    print(\"None\")\n",
        "\n",
        "\n",
        "head = ListNode(1)\n",
        "head.next = ListNode(2)\n",
        "head.next.next = ListNode(3)\n",
        "head.next.next.next = ListNode(4)\n",
        "head.next.next.next.next = ListNode(5)\n",
        "\n",
        "k = 2\n",
        "result = rotate_right(head, k)\n",
        "\n",
        "print(\"Result:\")\n",
        "print_linked_list(result)\n"
      ],
      "metadata": {
        "colab": {
          "base_uri": "https://localhost:8080/"
        },
        "id": "8lQ9bV-duIRp",
        "outputId": "0b3d46d6-352d-42e7-9752-e18dfddb5844"
      },
      "execution_count": 16,
      "outputs": [
        {
          "output_type": "stream",
          "name": "stdout",
          "text": [
            "Result:\n",
            "4 -> 5 -> 1 -> 2 -> 3 -> None\n"
          ]
        }
      ]
    },
    {
      "cell_type": "code",
      "source": [
        "#Problem 11: Flatten a multilevel doubly linked list.\n",
        "\n",
        "class Node:\n",
        "    def __init__(self, val=None, prev=None, next=None, child=None):\n",
        "        self.val = val\n",
        "        self.prev = prev\n",
        "        self.next = next\n",
        "        self.child = child\n",
        "\n",
        "def flatten(head):\n",
        "    if not head:\n",
        "        return None\n",
        "\n",
        "    dummy = Node(0)\n",
        "    prev = dummy\n",
        "\n",
        "    stack = [head]\n",
        "\n",
        "    while stack:\n",
        "        node = stack.pop()\n",
        "\n",
        "        if node.next:\n",
        "            stack.append(node.next)\n",
        "\n",
        "        if node.child:\n",
        "            stack.append(node.child)\n",
        "            node.child.prev = prev\n",
        "            prev.next = node.child\n",
        "            node.child = None\n",
        "\n",
        "        prev.next = node\n",
        "        node.prev = prev\n",
        "        prev = node\n",
        "\n",
        "    dummy.next.prev = None\n",
        "    return dummy.next\n",
        "\n",
        "def print_linked_list(head):\n",
        "    current = head\n",
        "    while current:\n",
        "        print(current.val, end=\" <-> \")\n",
        "        current = current.next\n",
        "    print(\"None\")\n",
        "\n",
        "head = Node(1)\n",
        "head.next = Node(2)\n",
        "head.next.prev = head\n",
        "head.next.next = Node(3)\n",
        "head.next.next.prev = head.next\n",
        "head.next.next.next = Node(7)\n",
        "head.next.next.next.prev = head.next.next\n",
        "head.next.next.next.next = Node(8)\n",
        "head.next.next.next.next.prev = head.next.next.next\n",
        "head.next.next.next.next.next = Node(11)\n",
        "head.next.next.next.next.next.prev = head.next.next.next.next\n",
        "head.next.next.next.next.next.next = Node(12)\n",
        "head.next.next.next.next.next.next.prev = head.next.next.next.next\n",
        "\n",
        "head.next.next.child = Node(4)\n",
        "head.next.next.child.next = Node(5)\n",
        "head.next.next.child.next.prev = head.next.next.child\n",
        "head.next.next.child.next.next = Node(9)\n",
        "head.next.next.child.next.next.prev = head.next.next.child.next\n",
        "head.next.next.child.next.next.next = Node(10)\n",
        "head.next.next.child.next.next.next.prev = head.next.next.child.next.next\n",
        "\n",
        "head.next.next.next.next.child = Node(6)\n",
        "head.next.next.next.next.child.next = Node(13)\n",
        "head.next.next.next.next.child.next.prev = head.next.next.next.next.child\n",
        "\n",
        "flattened_head = flatten(head)\n",
        "\n",
        "print(\"Flattened linked list:\")\n",
        "print_linked_list(flattened_head)\n",
        "\n"
      ],
      "metadata": {
        "colab": {
          "base_uri": "https://localhost:8080/"
        },
        "id": "k7A7d-vjuU3k",
        "outputId": "444279a0-44c7-4667-f596-7200ba7e968d"
      },
      "execution_count": 10,
      "outputs": [
        {
          "output_type": "stream",
          "name": "stdout",
          "text": [
            "Flattened linked list:\n",
            "1 <-> 2 <-> 3 <-> 4 <-> 5 <-> 9 <-> 10 <-> 7 <-> 8 <-> 6 <-> 13 <-> 11 <-> 12 <-> None\n"
          ]
        }
      ]
    },
    {
      "cell_type": "code",
      "source": [
        "#Problem 12: Rearrange a linked list such that all even positioned nodes are placed at the end.\n",
        "\n",
        "\n",
        "class ListNode:\n",
        "    def __init__(self, val=0, next=None):\n",
        "        self.val = val\n",
        "        self.next = next\n",
        "\n",
        "def rearrange_linked_list(head):\n",
        "    if not head or not head.next:\n",
        "        return head\n",
        "\n",
        "    odd_head = ListNode()\n",
        "    even_head = ListNode()\n",
        "\n",
        "    odd_tail = odd_head\n",
        "    even_tail = even_head\n",
        "\n",
        "    current = head\n",
        "    is_even = False\n",
        "\n",
        "    while current:\n",
        "        if is_even:\n",
        "            even_tail.next = current\n",
        "            even_tail = even_tail.next\n",
        "        else:\n",
        "            odd_tail.next = current\n",
        "            odd_tail = odd_tail.next\n",
        "\n",
        "        current = current.next\n",
        "        is_even = not is_even\n",
        "\n",
        "    odd_tail.next = even_head.next\n",
        "    even_tail.next = None\n",
        "\n",
        "    return odd_head.next\n",
        "\n",
        "def print_linked_list(head):\n",
        "    current = head\n",
        "    while current:\n",
        "        print(current.val, end=\" -> \")\n",
        "        current = current.next\n",
        "    print(\"None\")\n",
        "\n",
        "\n",
        "head = ListNode(1)\n",
        "head.next = ListNode(2)\n",
        "head.next.next = ListNode(3)\n",
        "head.next.next.next = ListNode(4)\n",
        "head.next.next.next.next = ListNode(5)\n",
        "\n",
        "result = rearrange_linked_list(head)\n",
        "\n",
        "print_linked_list(result)\n",
        "\n",
        "\n",
        "\n"
      ],
      "metadata": {
        "colab": {
          "base_uri": "https://localhost:8080/"
        },
        "id": "K7KKzcSNurma",
        "outputId": "1ef2fe80-289f-42e7-d715-a0fbb4cb8f76"
      },
      "execution_count": 13,
      "outputs": [
        {
          "output_type": "stream",
          "name": "stdout",
          "text": [
            "1 -> 3 -> 5 -> 2 -> 4 -> None\n"
          ]
        }
      ]
    },
    {
      "cell_type": "code",
      "source": [
        "#Problem 13: Given a non-negative number represented as a linked list, add one to it.\n",
        "\n",
        "\n",
        "class ListNode:\n",
        "    def __init__(self, val=0, next=None):\n",
        "        self.val = val\n",
        "        self.next = next\n",
        "\n",
        "def add_one(head):\n",
        "    prev = None\n",
        "    current = head\n",
        "    while current:\n",
        "        next_node = current.next\n",
        "        current.next = prev\n",
        "        prev = current\n",
        "        current = next_node\n",
        "    head = prev\n",
        "\n",
        "    current = head\n",
        "    carry = 1\n",
        "    while current and carry:\n",
        "        current.val += carry\n",
        "        carry = current.val // 10\n",
        "        current.val %= 10\n",
        "        if current.next is None and carry:\n",
        "            current.next = ListNode(carry)\n",
        "            carry = 0\n",
        "        current = current.next\n",
        "\n",
        "    prev = None\n",
        "    current = head\n",
        "    while current:\n",
        "        next_node = current.next\n",
        "        current.next = prev\n",
        "        prev = current\n",
        "        current = next_node\n",
        "    head = prev\n",
        "\n",
        "    return head\n",
        "\n",
        "def print_linked_list(head):\n",
        "    current = head\n",
        "    while current:\n",
        "        print(current.val, end=\" -> \")\n",
        "        current = current.next\n",
        "    print(\"None\")\n",
        "\n",
        "\n",
        "head = ListNode(1)\n",
        "head.next = ListNode(2)\n",
        "head.next.next = ListNode(3)\n",
        "\n",
        "result = add_one(head)\n",
        "\n",
        "print_linked_list(result)\n"
      ],
      "metadata": {
        "colab": {
          "base_uri": "https://localhost:8080/"
        },
        "id": "2PN0cDQxKUzX",
        "outputId": "f0dba1be-054f-4b54-ea6b-ed1f6611d173"
      },
      "execution_count": 14,
      "outputs": [
        {
          "output_type": "stream",
          "name": "stdout",
          "text": [
            "1 -> 2 -> 4 -> None\n"
          ]
        }
      ]
    },
    {
      "cell_type": "code",
      "source": [
        "#Problem 14: Given a sorted array and a target value, return the index if the target is found. If not, return the index where it would be inserted.\n",
        "\n",
        "\n",
        "def search_insert(nums, target):\n",
        "    left, right = 0, len(nums) - 1\n",
        "\n",
        "    while left <= right:\n",
        "        mid = left + (right - left) // 2\n",
        "        if nums[mid] == target:\n",
        "            return mid\n",
        "        elif nums[mid] < target:\n",
        "            left = mid + 1\n",
        "        else:\n",
        "            right = mid - 1\n",
        "\n",
        "    return left\n",
        "\n",
        "nums = [1, 3, 5, 6]\n",
        "target = 5\n",
        "print(search_insert(nums, target))\n",
        "\n"
      ],
      "metadata": {
        "colab": {
          "base_uri": "https://localhost:8080/"
        },
        "id": "WwjIKA_8LCyz",
        "outputId": "da723908-44d2-43bc-de8c-b540d1b19b84"
      },
      "execution_count": 15,
      "outputs": [
        {
          "output_type": "stream",
          "name": "stdout",
          "text": [
            "2\n"
          ]
        }
      ]
    },
    {
      "cell_type": "code",
      "source": [
        "#Problem 15: Find the minimum element in a rotated sorted array.\n",
        "\n",
        "\n",
        "def find_min(nums):\n",
        "    left, right = 0, len(nums) - 1\n",
        "\n",
        "    while left < right:\n",
        "        mid = left + (right - left) // 2\n",
        "        if nums[mid] > nums[right]:\n",
        "            left = mid + 1\n",
        "        else:\n",
        "            right = mid\n",
        "\n",
        "    return nums[left]\n",
        "\n",
        "nums = [4, 5, 6, 7, 0, 1, 2]\n",
        "print(find_min(nums))\n"
      ],
      "metadata": {
        "colab": {
          "base_uri": "https://localhost:8080/"
        },
        "id": "xkMB0s9cLXXy",
        "outputId": "5870e723-3764-4dbe-e483-8368f536ef44"
      },
      "execution_count": 16,
      "outputs": [
        {
          "output_type": "stream",
          "name": "stdout",
          "text": [
            "0\n"
          ]
        }
      ]
    },
    {
      "cell_type": "code",
      "source": [
        "#Problem 16: Search for a target value in a rotated sorted array.\n",
        "\n",
        "\n",
        "def search(nums, target):\n",
        "    left, right = 0, len(nums) - 1\n",
        "\n",
        "    while left <= right:\n",
        "        mid = left + (right - left) // 2\n",
        "\n",
        "        if nums[mid] == target:\n",
        "            return mid\n",
        "\n",
        "        if nums[left] <= nums[mid]:\n",
        "            if nums[left] <= target < nums[mid]:\n",
        "                right = mid - 1\n",
        "            else:\n",
        "                left = mid + 1\n",
        "        else:\n",
        "            if nums[mid] < target <= nums[right]:\n",
        "                left = mid + 1\n",
        "            else:\n",
        "                right = mid - 1\n",
        "\n",
        "    return -1\n",
        "\n",
        "\n",
        "nums = [4, 5, 6, 7, 0, 1, 2]\n",
        "target = 0\n",
        "print(search(nums, target))\n",
        "\n",
        "\n"
      ],
      "metadata": {
        "colab": {
          "base_uri": "https://localhost:8080/"
        },
        "id": "DtkNypJmLpBl",
        "outputId": "20c69bdc-03df-4dfc-fc82-bcaf95e7dfb5"
      },
      "execution_count": 17,
      "outputs": [
        {
          "output_type": "stream",
          "name": "stdout",
          "text": [
            "4\n"
          ]
        }
      ]
    },
    {
      "cell_type": "code",
      "source": [
        "#Problem 17: Find the peak element in an array. A peak element is greater than its neighbors.\n",
        "\n",
        "\n",
        "def find_peak(nums):\n",
        "    left, right = 0, len(nums) - 1\n",
        "\n",
        "    while left < right:\n",
        "        mid = left + (right - left) // 2\n",
        "\n",
        "        if nums[mid] < nums[mid + 1]:\n",
        "            left = mid + 1\n",
        "        else:\n",
        "            right = mid\n",
        "\n",
        "    return left\n",
        "\n",
        "nums = [1, 2, 3, 1]\n",
        "print(find_peak(nums))\n"
      ],
      "metadata": {
        "colab": {
          "base_uri": "https://localhost:8080/"
        },
        "id": "nr0GCMZTL-OP",
        "outputId": "a79d6c9f-79e9-4522-9480-7af2e6b4d17b"
      },
      "execution_count": 18,
      "outputs": [
        {
          "output_type": "stream",
          "name": "stdout",
          "text": [
            "2\n"
          ]
        }
      ]
    },
    {
      "cell_type": "code",
      "source": [
        "#Problem 18: Given a m x n matrix where each row and column is sorted in ascending order, count the number of negative numbers.\n",
        "\n",
        "\n",
        "def count_negatives(grid):\n",
        "    m, n = len(grid), len(grid[0])\n",
        "    count = 0\n",
        "    row, col = 0, n - 1\n",
        "\n",
        "    while row < m and col >= 0:\n",
        "        if grid[row][col] < 0:\n",
        "            count += (m - row)\n",
        "            col -= 1\n",
        "        else:\n",
        "            row += 1\n",
        "\n",
        "    return count\n",
        "\n",
        "grid = [\n",
        "    [4, 3, 2, -1],\n",
        "    [3, 2, 1, -1],\n",
        "    [1, 1, -1, -2],\n",
        "    [-1, -1, -2, -3]\n",
        "]\n",
        "print(count_negatives(grid))\n",
        "\n"
      ],
      "metadata": {
        "colab": {
          "base_uri": "https://localhost:8080/"
        },
        "id": "7FrBJXddMQRz",
        "outputId": "1a7f96fb-771f-4476-e869-16052894c10e"
      },
      "execution_count": 19,
      "outputs": [
        {
          "output_type": "stream",
          "name": "stdout",
          "text": [
            "8\n"
          ]
        }
      ]
    },
    {
      "cell_type": "code",
      "source": [
        "#Problem 19: Given a 2D matrix sorted in ascending order in each row, and the first integer of each row is\n",
        "#greater than the last integer of the previous row, determine if a target value is present in the matrix.\n",
        "\n",
        "\n",
        "\n",
        "def search_matrix(matrix, target):\n",
        "    if not matrix:\n",
        "        return False\n",
        "\n",
        "    m, n = len(matrix), len(matrix[0])\n",
        "    left, right = 0, m * n - 1\n",
        "\n",
        "    while left <= right:\n",
        "        mid = left + (right - left) // 2\n",
        "        mid_value = matrix[mid // n][mid % n]\n",
        "\n",
        "        if mid_value == target:\n",
        "            return True\n",
        "        elif mid_value < target:\n",
        "            left = mid + 1\n",
        "        else:\n",
        "            right = mid - 1\n",
        "\n",
        "    return False\n",
        "\n",
        "matrix = [\n",
        "    [1, 3, 5, 7],\n",
        "    [10, 11, 16, 20],\n",
        "    [23, 30, 34, 60]\n",
        "]\n",
        "target = 3\n",
        "print(search_matrix(matrix, target))\n"
      ],
      "metadata": {
        "colab": {
          "base_uri": "https://localhost:8080/"
        },
        "id": "s9moNBGVMgWp",
        "outputId": "432602a1-6264-4783-9d3e-6d9359e73732"
      },
      "execution_count": 20,
      "outputs": [
        {
          "output_type": "stream",
          "name": "stdout",
          "text": [
            "True\n"
          ]
        }
      ]
    },
    {
      "cell_type": "code",
      "source": [
        "#Problem 20: Find Median in Two Sorted Arrays\n",
        "#Problem: Given two sorted arrays, find the median of the combined sorted array.\n",
        "\n",
        "\n",
        "def findMedianSortedArrays(nums1, nums2):\n",
        "    if len(nums1) > len(nums2):\n",
        "        nums1, nums2 = nums2, nums1\n",
        "\n",
        "    m, n = len(nums1), len(nums2)\n",
        "    total_length = m + n\n",
        "    half_length = (total_length + 1) // 2\n",
        "\n",
        "    left, right = 0, m\n",
        "\n",
        "    while left <= right:\n",
        "        partition_nums1 = left + (right - left) // 2\n",
        "        partition_nums2 = half_length - partition_nums1\n",
        "\n",
        "        max_left_nums1 = float('-inf') if partition_nums1 == 0 else nums1[partition_nums1 - 1]\n",
        "        min_right_nums1 = float('inf') if partition_nums1 == m else nums1[partition_nums1]\n",
        "\n",
        "        max_left_nums2 = float('-inf') if partition_nums2 == 0 else nums2[partition_nums2 - 1]\n",
        "        min_right_nums2 = float('inf') if partition_nums2 == n else nums2[partition_nums2]\n",
        "\n",
        "        if max_left_nums1 <= min_right_nums2 and max_left_nums2 <= min_right_nums1:\n",
        "            if total_length % 2 == 0:\n",
        "                return (max(max_left_nums1, max_left_nums2) + min(min_right_nums1, min_right_nums2)) / 2\n",
        "            else:\n",
        "                return float(max(max_left_nums1, max_left_nums2))\n",
        "\n",
        "        elif max_left_nums1 > min_right_nums2:\n",
        "            right = partition_nums1 - 1\n",
        "        else:\n",
        "            left = partition_nums1 + 1\n",
        "\n",
        "nums1 = [1, 3]\n",
        "nums2 = [2]\n",
        "print(findMedianSortedArrays(nums1, nums2))\n",
        "\n"
      ],
      "metadata": {
        "colab": {
          "base_uri": "https://localhost:8080/"
        },
        "id": "FxOp7ItINO7O",
        "outputId": "4e36618e-eca1-4a78-8cfe-f14e1643a68b"
      },
      "execution_count": 21,
      "outputs": [
        {
          "output_type": "stream",
          "name": "stdout",
          "text": [
            "2.0\n"
          ]
        }
      ]
    },
    {
      "cell_type": "code",
      "source": [
        "#Problem 21: Given a sorted character array and a target letter, find the smallest letter in the array that is greater than the target.\n",
        "\n",
        "\n",
        "def nextGreatestLetter(letters, target):\n",
        "    left, right = 0, len(letters) - 1\n",
        "\n",
        "    while left <= right:\n",
        "        mid = left + (right - left) // 2\n",
        "\n",
        "        if letters[mid] <= target:\n",
        "            left = mid + 1\n",
        "        else:\n",
        "            right = mid - 1\n",
        "\n",
        "    return letters[left % len(letters)]\n",
        "\n",
        "letters = ['c', 'f', 'j']\n",
        "target = 'a'\n",
        "print(nextGreatestLetter(letters, target))\n",
        "\n"
      ],
      "metadata": {
        "colab": {
          "base_uri": "https://localhost:8080/"
        },
        "id": "kAANmRRwN0b3",
        "outputId": "2385174e-7777-48ef-94d4-6af90077c802"
      },
      "execution_count": 22,
      "outputs": [
        {
          "output_type": "stream",
          "name": "stdout",
          "text": [
            "c\n"
          ]
        }
      ]
    },
    {
      "cell_type": "code",
      "source": [
        "#Problem 22: Given an array with n objects colored red, white, or blue, sort them in-place so that objects of\n",
        "#the same color are adjacent, with the colors in the order red, white, and blue.\n",
        "\n",
        "\n",
        "def sortColors(nums):\n",
        "    low, mid, high = 0, 0, len(nums) - 1\n",
        "\n",
        "    while mid <= high:\n",
        "        if nums[mid] == 0:\n",
        "            nums[low], nums[mid] = nums[mid], nums[low]\n",
        "            low += 1\n",
        "            mid += 1\n",
        "        elif nums[mid] == 1:\n",
        "            mid += 1\n",
        "        else:\n",
        "            nums[mid], nums[high] = nums[high], nums[mid]\n",
        "            high -= 1\n",
        "\n",
        "nums = [2, 0, 2, 1, 1, 0]\n",
        "sortColors(nums)\n",
        "print(nums)\n",
        "\n"
      ],
      "metadata": {
        "colab": {
          "base_uri": "https://localhost:8080/"
        },
        "id": "qYr62-qKO7mj",
        "outputId": "fc735522-3677-4911-84eb-3a029f382570"
      },
      "execution_count": 23,
      "outputs": [
        {
          "output_type": "stream",
          "name": "stdout",
          "text": [
            "[0, 0, 1, 1, 2, 2]\n"
          ]
        }
      ]
    },
    {
      "cell_type": "code",
      "source": [
        "#Problem 23: Find the kth largest element in an unsorted array.\n",
        "\n",
        "\n",
        "import random\n",
        "\n",
        "def partition(nums, left, right, pivot_index):\n",
        "    pivot_value = nums[pivot_index]\n",
        "    nums[pivot_index], nums[right] = nums[right], nums[pivot_index]\n",
        "    store_index = left\n",
        "\n",
        "    for i in range(left, right):\n",
        "        if nums[i] < pivot_value:\n",
        "            nums[i], nums[store_index] = nums[store_index], nums[i]\n",
        "            store_index += 1\n",
        "\n",
        "    nums[right], nums[store_index] = nums[store_index], nums[right]\n",
        "    return store_index\n",
        "\n",
        "def findKthLargest(nums, k):\n",
        "    left, right = 0, len(nums) - 1\n",
        "    while True:\n",
        "        pivot_index = random.randint(left, right)\n",
        "        pivot_index = partition(nums, left, right, pivot_index)\n",
        "        if pivot_index == len(nums) - k:\n",
        "            return nums[pivot_index]\n",
        "        elif pivot_index < len(nums) - k:\n",
        "            left = pivot_index + 1\n",
        "        else:\n",
        "            right = pivot_index - 1\n",
        "\n",
        "nums = [3, 2, 1, 5, 6, 4]\n",
        "k = 2\n",
        "print(findKthLargest(nums, k))\n",
        "\n"
      ],
      "metadata": {
        "colab": {
          "base_uri": "https://localhost:8080/"
        },
        "id": "7M43akzxPOy8",
        "outputId": "2174720f-5e94-4519-afbc-044eb56b55ae"
      },
      "execution_count": 24,
      "outputs": [
        {
          "output_type": "stream",
          "name": "stdout",
          "text": [
            "5\n"
          ]
        }
      ]
    },
    {
      "cell_type": "code",
      "source": [
        "#Problem 24: Given an unsorted array, reorder it in-place such that nums[0] <= nums[1] >= nums[2] <= nums[3]...\n",
        "\n",
        "\n",
        "\n",
        "def wiggleSort(nums):\n",
        "    for i in range(1, len(nums)):\n",
        "        if (i % 2 == 0 and nums[i - 1] > nums[i]) or (i % 2 == 1 and nums[i - 1] < nums[i]):\n",
        "            nums[i - 1], nums[i] = nums[i], nums[i - 1]\n",
        "\n",
        "nums = [3, 5, 2, 1, 6, 4]\n",
        "wiggleSort(nums)\n",
        "print(nums)\n"
      ],
      "metadata": {
        "colab": {
          "base_uri": "https://localhost:8080/"
        },
        "id": "v_vHlXBJPfoG",
        "outputId": "b75aa3df-8109-4e52-a74c-e1f94c7b5687"
      },
      "execution_count": 25,
      "outputs": [
        {
          "output_type": "stream",
          "name": "stdout",
          "text": [
            "[5, 2, 3, 1, 6, 4]\n"
          ]
        }
      ]
    },
    {
      "cell_type": "code",
      "source": [
        "#Problem 25: Given an array of integers, calculate the sum of all its elements.\n",
        "\n",
        "\n",
        "def calculate_sum(nums):\n",
        "    total_sum = 0\n",
        "    for num in nums:\n",
        "        total_sum += num\n",
        "    return total_sum\n",
        "\n",
        "nums = [1, 2, 3, 4, 5]\n",
        "print(calculate_sum(nums))\n",
        "\n",
        "\n",
        "\n",
        "\n"
      ],
      "metadata": {
        "colab": {
          "base_uri": "https://localhost:8080/"
        },
        "id": "d6SbN7d1Pyju",
        "outputId": "34a1f00f-d073-4f0a-d9f2-cfdb29e68893"
      },
      "execution_count": 27,
      "outputs": [
        {
          "output_type": "stream",
          "name": "stdout",
          "text": [
            "15\n"
          ]
        }
      ]
    },
    {
      "cell_type": "code",
      "source": [
        "#Problem 26: Find the maximum element in an array of integers.\n",
        "\n",
        "\n",
        "def find_maximum(nums):\n",
        "    if not nums:\n",
        "        return None\n",
        "\n",
        "    return max(nums)\n",
        "\n",
        "nums = [3, 7, 2, 9, 4, 1]\n",
        "print(find_maximum(nums))\n"
      ],
      "metadata": {
        "colab": {
          "base_uri": "https://localhost:8080/"
        },
        "id": "hbcdavCsQFuc",
        "outputId": "cc0a702b-952d-4c72-b2d2-b0592d20402b"
      },
      "execution_count": 28,
      "outputs": [
        {
          "output_type": "stream",
          "name": "stdout",
          "text": [
            "9\n"
          ]
        }
      ]
    },
    {
      "cell_type": "code",
      "source": [
        "#Problem 27: Implement linear search to find the index of a target element in an array.\n",
        "\n",
        "\n",
        "def linear_search(nums, target):\n",
        "    for i, num in enumerate(nums):\n",
        "        if num == target:\n",
        "            return i\n",
        "    return -1\n",
        "\n",
        "nums = [5, 3, 8, 2, 7, 4]\n",
        "target = 8\n",
        "print(linear_search(nums, target))\n",
        "\n"
      ],
      "metadata": {
        "colab": {
          "base_uri": "https://localhost:8080/"
        },
        "id": "oEVURaiIQkhH",
        "outputId": "4fdcd07c-467b-4730-8234-1eb53e4991e5"
      },
      "execution_count": 29,
      "outputs": [
        {
          "output_type": "stream",
          "name": "stdout",
          "text": [
            "2\n"
          ]
        }
      ]
    },
    {
      "cell_type": "code",
      "source": [
        "#Problem 28 Calculate the factorial of a given number.\n",
        "\n",
        "\n",
        "def factorial(n):\n",
        "    result = 1\n",
        "    for i in range(1, n + 1):\n",
        "        result *= i\n",
        "    return result\n",
        "\n",
        "n = 5\n",
        "print(factorial(n))\n"
      ],
      "metadata": {
        "colab": {
          "base_uri": "https://localhost:8080/"
        },
        "id": "Is6ssfZkQzIc",
        "outputId": "d8c7f286-10e2-4ef6-ee9d-057bca81b21c"
      },
      "execution_count": 30,
      "outputs": [
        {
          "output_type": "stream",
          "name": "stdout",
          "text": [
            "120\n"
          ]
        }
      ]
    },
    {
      "cell_type": "code",
      "source": [
        "#Problem 29: Check if a given number is a prime number.\n",
        "\n",
        "\n",
        "import math\n",
        "\n",
        "def is_prime(n):\n",
        "    if n <= 1:\n",
        "        return False\n",
        "    if n == 2:\n",
        "        return True\n",
        "    if n % 2 == 0:\n",
        "        return False\n",
        "    sqrt_n = int(math.sqrt(n))\n",
        "    for i in range(3, sqrt_n + 1, 2):\n",
        "        if n % i == 0:\n",
        "            return False\n",
        "    return True\n",
        "\n",
        "n = 7\n",
        "print(is_prime(n))\n",
        "\n"
      ],
      "metadata": {
        "colab": {
          "base_uri": "https://localhost:8080/"
        },
        "id": "u6Fwuc_VREbD",
        "outputId": "0e879539-9832-4ad9-ac44-9c607dc66b6e"
      },
      "execution_count": 31,
      "outputs": [
        {
          "output_type": "stream",
          "name": "stdout",
          "text": [
            "True\n"
          ]
        }
      ]
    },
    {
      "cell_type": "code",
      "source": [
        "#Problem 30: Generate the Fibonacci series up to a given number n.\n",
        "\n",
        "\n",
        "def generate_fibonacci_series(n):\n",
        "    fibonacci_series = [0, 1]\n",
        "    while fibonacci_series[-1] + fibonacci_series[-2] <= n:\n",
        "        fibonacci_series.append(fibonacci_series[-1] + fibonacci_series[-2])\n",
        "    return fibonacci_series\n",
        "\n",
        "n = 8\n",
        "print(generate_fibonacci_series(n))\n",
        "\n"
      ],
      "metadata": {
        "colab": {
          "base_uri": "https://localhost:8080/"
        },
        "id": "Sq1BPeoHRTWG",
        "outputId": "c5736bdd-955d-4f11-d049-2b41af2529c3"
      },
      "execution_count": 32,
      "outputs": [
        {
          "output_type": "stream",
          "name": "stdout",
          "text": [
            "[0, 1, 1, 2, 3, 5, 8]\n"
          ]
        }
      ]
    },
    {
      "cell_type": "code",
      "source": [
        "#Problem 31: Calculate the power of a number using recursion.\n",
        "\n",
        "def power(base, exponent):\n",
        "    if exponent == 0:\n",
        "        return 1\n",
        "    elif exponent > 0:\n",
        "        return base * power(base, exponent - 1)\n",
        "\n",
        "base = 3\n",
        "exponent = 4\n",
        "print(power(base, exponent))\n",
        "\n",
        "\n"
      ],
      "metadata": {
        "colab": {
          "base_uri": "https://localhost:8080/"
        },
        "id": "FC-gCOQuRg7B",
        "outputId": "46fcb77c-618c-40c5-e3cc-2e07f4121c41"
      },
      "execution_count": 33,
      "outputs": [
        {
          "output_type": "stream",
          "name": "stdout",
          "text": [
            "81\n"
          ]
        }
      ]
    },
    {
      "cell_type": "code",
      "source": [
        "#Problem 32: Reverse a given string.\n",
        "\n",
        "def reverse_string(s):\n",
        "  return s[::-1]\n",
        "\n",
        "input_string = \"hello\"\n",
        "print(reverse_string(input_string))\n",
        "\n"
      ],
      "metadata": {
        "colab": {
          "base_uri": "https://localhost:8080/"
        },
        "id": "885umbSoRwll",
        "outputId": "d8937f0a-5073-4112-cd3f-55034d53bced"
      },
      "execution_count": 34,
      "outputs": [
        {
          "output_type": "stream",
          "name": "stdout",
          "text": [
            "olleh\n"
          ]
        }
      ]
    },
    {
      "cell_type": "code",
      "source": [],
      "metadata": {
        "id": "TMf3sO5eSK0U"
      },
      "execution_count": null,
      "outputs": []
    }
  ]
}